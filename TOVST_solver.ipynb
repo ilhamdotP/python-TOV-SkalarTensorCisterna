{
 "cells": [
  {
   "cell_type": "code",
   "execution_count": 62,
   "metadata": {},
   "outputs": [],
   "source": [
    "# source: https://www.codesansar.com/numerical-methods/\n",
    "#         runge-kutta-fourth-order-rk4-python-program.htm\n",
    "\n",
    "import cmath #To help us out with the complex square root\n",
    "import numpy as np #For the arrays\n",
    "import matplotlib.pyplot as plt #Visualization\n",
    "\n",
    "# deleting profile and radmass files\n",
    "# os.remove(\"radmass.txt\")\n",
    "# os.remove(\"profile.txt\")\n",
    "\n",
    "# some constants\n",
    "GS = 1.325 * 10**(-12) # Newton constant in m^4 / MeV fm^3\n",
    "MSS = 1.1155 * 10**(15) # Sun's mass in MeV m^3 / fm^3\n",
    "PI = np.pi \n",
    "HC = 197.327 # hc=1=197.327 MeV fm\n",
    "kappa = 1/(16*PI*GS)\n",
    "\n",
    "# define energy density as function of pressure\n",
    "\n",
    "def eden(P):\n",
    "    return 3*P + 4*(145**4/(HC*HC*HC))\n",
    "\n",
    "def dedP(P):\n",
    "    return 3.\n",
    "\n",
    "# the TOV GR equation\n",
    "\n",
    "def b1(r,P,f,b):\n",
    "    return (1-f)*b/(r*f)\n",
    "\n",
    "def P1(r,P,f,b):\n",
    "    return -(eden(P)+P) * b1(r,P,f,b)/(2*b)\n",
    "\n",
    "def f1(r,P,f,b):\n",
    "    A = r*b/f*(P*r**2+4*kappa)-3*eta*Qinf**2*r\n",
    "    B = 3*(1-f)*eta*Qinf**2 \n",
    "    B = B + b/f*(6*r**2*f*P + (1+f)*r**2*eden(P) -4*kappa*(1-f))\n",
    "    return -B/A\n",
    "\n",
    "# define the Runge-Kutta 4th order for the problem\n",
    "# if we want to print the profile, set profile=1\n",
    "# if we not, set profile=0\n",
    "def RungeKutta(rCC,bCC,PCC,fCC,h,profile):\n",
    "    # input initial values\n",
    "    r0 = rCC\n",
    "    b0 = bCC\n",
    "    P0 = PCC\n",
    "    f0 = fCC\n",
    "    while (P0 > 0.):\n",
    "        if profile == 1:\n",
    "            print(r0, b0, P0, f0, file=open('profileST.dat', 'a'))\n",
    "        # calculate k1\n",
    "        r01 = r0\n",
    "        b01 = b0\n",
    "        P01 = P0\n",
    "        f01 = f0\n",
    "        k1_b = h * b1(r01,P01,f01,b01)\n",
    "        k1_P = h * P1(r01,P01,f01,b01)\n",
    "        k1_f = h * f1(r01,P01,f01,b01)\n",
    "        # calculate k2\n",
    "        r01 = r0 + h/2\n",
    "        b01 = b0 + k1_b/2\n",
    "        P01 = P0 + k1_P/2\n",
    "        f01 = f0 + k1_f/2\n",
    "        k2_b = h * b1(r01,P01,f01,b01)\n",
    "        k2_P = h * P1(r01,P01,f01,b01)\n",
    "        k2_f = h * f1(r01,P01,f01,b01)\n",
    "        # calculate k3\n",
    "        r01 = r0 + h/2\n",
    "        b01 = b0 + k2_b/2\n",
    "        P01 = P0 + k2_P/2\n",
    "        f01 = f0 + k2_f/2\n",
    "        k3_b = h * b1(r01,P01,f01,b01)\n",
    "        k3_P = h * P1(r01,P01,f01,b01)\n",
    "        k3_f = h * f1(r01,P01,f01,b01)\n",
    "        # calculate k4\n",
    "        r01 = r0 + h\n",
    "        b01 = b0 + k3_b\n",
    "        P01 = P0 + k3_P\n",
    "        f01 = f0 + k3_f\n",
    "        k4_b = h * b1(r01,P01,f01,b01)\n",
    "        k4_P = h * P1(r01,P01,f01,b01)\n",
    "        k4_f = h * f1(r01,P01,f01,b01)\n",
    "        # calculate the next r0, P0, m0, and b0\n",
    "        r0 = r0 + h\n",
    "        b0 = b0 + (k1_b+2*k2_b+2*k3_b+k4_b)/6\n",
    "        P0 = P0 + (k1_P+2*k2_P+2*k3_P+k4_P)/6\n",
    "        f0 = f0 + (k1_f+2*k2_f+2*k3_f+k4_f)/6\n",
    "    # the results at the surface\n",
    "    output = np.array([r0,b0,P0,f0])\n",
    "    return output"
   ]
  },
  {
   "cell_type": "code",
   "execution_count": 50,
   "metadata": {},
   "outputs": [
    {
     "output_type": "stream",
     "name": "stdout",
     "text": [
      "-0.06903887647857614 0.8100000000000002\n"
     ]
    }
   ],
   "source": [
    "PCC = 300. # pressure at the center in MeV / fm^3\n",
    "bCC = 1. # metric function b(r) at the center\n",
    "LBQ2 = 12*PCC*kappa*bCC/(abs(eta)*(3*PCC-eden(PCC)))\n",
    "UBQ2 = 4*kappa*bCC/(3*abs(eta))\n",
    "print(Qinf**2/LBQ2,Qinf**2/UBQ2)"
   ]
  },
  {
   "cell_type": "code",
   "execution_count": 78,
   "metadata": {},
   "outputs": [
    {
     "output_type": "stream",
     "name": "stdout",
     "text": [
      "1200.0 9.083000000001 1.7083151442745261 0.27798677144725104 0.29 0.29\n",
      "0.9050265831644458\n",
      "1200.0 9.696000000001 1.967763676496163 0.2999616857465859 0.29 0.9410159106157769\n",
      "0.09904098430210961\n",
      "1200.0 9.771000000001 1.9979578474894462 0.30222665254409775 0.29 0.9913898055313869\n",
      "0.011254209625909173\n",
      "1200.0 9.780000000001001 2.0014710931577215 0.30247948168229066 0.29 0.9970159933905077\n",
      "0.0013307725839115658\n",
      "1200.0 9.781000000001 2.001876372568018 0.3025097995112155 0.29 0.9976800570271824\n",
      "0.0001494493937710395\n"
     ]
    }
   ],
   "source": [
    "# this is only for a single PCC\n",
    "\n",
    "# define initial parameters\n",
    "rCC = .000000001 # radius near center in m--the starting point\n",
    "rmax = 100000. # radius at far distances in m\n",
    "PCC = 2*600. # pressure at the center in MeV / fm^3\n",
    "fCC = 1. # metric function f(r) at the center\n",
    "bCC = 1. # metric function b(r) at the center\n",
    "\n",
    "h = 1. # h-step\n",
    "\n",
    "UBQ = np.sqrt(4*kappa/3)\n",
    "Qinf = .29*UBQ   # not more than .29*UBQ is save up to PCC=1200\n",
    "eta = -1.\n",
    "Q = Qinf\n",
    "\n",
    "# calculate the surface values\n",
    "output=RungeKutta(rCC,bCC,PCC,fCC,h,0)\n",
    "# print(output)\n",
    "\n",
    "# at the surface, b = 1-2Gm/r, which is different to the result\n",
    "rSurface=output[0]\n",
    "bSurface=output[1]\n",
    "fSurface=output[3]\n",
    "mSurface=(1-fSurface)*rSurface/(2*GS*MSS)\n",
    "print(PCC, (rSurface/1000), mSurface, \n",
    "          GS*MSS*mSurface/rSurface, Qinf/UBQ, Q/UBQ) \n",
    "bSurfaceTarget = 1-2*GS*MSS*mSurface/rSurface\n",
    "\n",
    "# NOTICE: cannot use it since R and M chaages\n",
    "# instead we follow the paper by Cisterna PRD92,044050(2015)\n",
    "# i.e. bCC will not be modified, but Q is modified instead \n",
    "\n",
    "# Or rather inputting Qinf fixed instead and calculate Q,\n",
    "# which is done by only modifying bCC,\n",
    "# then Q=Q/np.sqrt(bCorrection)\n",
    "\n",
    "# So, we redefine bCC as follows\n",
    "bCorrection=bSurfaceTarget/bSurface  # bCorrection=1/binf\n",
    "print(abs(bCorrection-1))\n",
    "# bCC and Q will be modified into bCC*bCorrection\n",
    "# and Q*np.sqrt(bCorrection) \n",
    "\n",
    "# if abs(bCorrection) not near 1, then recalculate\n",
    "while (abs(bCorrection-1)>10**(-3)):\n",
    "    bCC=bCC*bCorrection\n",
    "    Q=Q/np.sqrt(bCorrection)\n",
    "    output=RungeKutta(rCC,bCC,PCC,fCC,h,0)\n",
    "    # print(output)\n",
    "    rSurface=output[0]\n",
    "    bSurface=output[1]\n",
    "    fSurface=output[3]\n",
    "    mSurface=(1-fSurface)*rSurface/(2*GS*MSS)\n",
    "    print(PCC, (rSurface/1000), mSurface, \n",
    "          GS*MSS*mSurface/rSurface, Qinf/UBQ, Q/UBQ) \n",
    "    bSurfaceTarget = 1-2*GS*MSS*mSurface/rSurface\n",
    "    bCorrection=bSurfaceTarget/bSurface\n",
    "    print(abs(bCorrection-1))\n",
    "\n",
    "# We NEED to redefine both b and Q\n",
    "# so that R and M don'o't change\n",
    "# --they change if we didn't\n",
    "# redefine Q"
   ]
  },
  {
   "cell_type": "code",
   "execution_count": 59,
   "metadata": {},
   "outputs": [
    {
     "output_type": "stream",
     "name": "stdout",
     "text": [
      "[ 9.78100000e+03  3.95039439e-01 -6.27516269e-03  3.94980401e-01]\n1200.0 9.781000000001 2.001876372568018 0.3025097995112155 0.9976800570271824\n"
     ]
    }
   ],
   "source": [
    "# if we want to print the profile, run this  \n",
    "output=RungeKutta(rCC,bCC,PCC,fCC,h,1)\n",
    "print(output)\n",
    "rSurface=output[0]\n",
    "bSurface=output[1]\n",
    "fSurface=output[3]\n",
    "mSurface=(1-fSurface)*rSurface/(2*GS*MSS)\n",
    "print(PCC, (rSurface/1000), mSurface, \n",
    "          GS*MSS*mSurface/rSurface, Qinf/UBQ, Q/UBQ) "
   ]
  },
  {
   "cell_type": "code",
   "execution_count": 60,
   "metadata": {},
   "outputs": [
    {
     "output_type": "display_data",
     "data": {
      "text/plain": "<Figure size 432x720 with 2 Axes>",
      "image/svg+xml": "<?xml version=\"1.0\" encoding=\"utf-8\" standalone=\"no\"?>\r\n<!DOCTYPE svg PUBLIC \"-//W3C//DTD SVG 1.1//EN\"\r\n  \"http://www.w3.org/Graphics/SVG/1.1/DTD/svg11.dtd\">\r\n<!-- Created with matplotlib (https://matplotlib.org/) -->\r\n<svg height=\"594.163125pt\" version=\"1.1\" viewBox=\"0 0 409.984694 594.163125\" width=\"409.984694pt\" xmlns=\"http://www.w3.org/2000/svg\" xmlns:xlink=\"http://www.w3.org/1999/xlink\">\r\n <defs>\r\n  <style type=\"text/css\">\r\n*{stroke-linecap:butt;stroke-linejoin:round;}\r\n  </style>\r\n </defs>\r\n <g id=\"figure_1\">\r\n  <g id=\"patch_1\">\r\n   <path d=\"M 0 594.163125 \r\nL 409.984694 594.163125 \r\nL 409.984694 0 \r\nL 0 0 \r\nz\r\n\" style=\"fill:none;\"/>\r\n  </g>\r\n  <g id=\"axes_1\">\r\n   <g id=\"patch_2\">\r\n    <path d=\"M 60.45 254.290909 \r\nL 395.25 254.290909 \r\nL 395.25 7.2 \r\nL 60.45 7.2 \r\nz\r\n\" style=\"fill:#ffffff;\"/>\r\n   </g>\r\n   <g id=\"matplotlib.axis_1\">\r\n    <g id=\"xtick_1\">\r\n     <g id=\"line2d_1\">\r\n      <defs>\r\n       <path d=\"M 0 0 \r\nL 0 3.5 \r\n\" id=\"mdc955b7e1e\" style=\"stroke:#000000;stroke-width:0.8;\"/>\r\n      </defs>\r\n      <g>\r\n       <use style=\"stroke:#000000;stroke-width:0.8;\" x=\"75.668182\" xlink:href=\"#mdc955b7e1e\" y=\"254.290909\"/>\r\n      </g>\r\n     </g>\r\n     <g id=\"text_1\">\r\n      <!-- 0 -->\r\n      <defs>\r\n       <path d=\"M 31.78125 66.40625 \r\nQ 24.171875 66.40625 20.328125 58.90625 \r\nQ 16.5 51.421875 16.5 36.375 \r\nQ 16.5 21.390625 20.328125 13.890625 \r\nQ 24.171875 6.390625 31.78125 6.390625 \r\nQ 39.453125 6.390625 43.28125 13.890625 \r\nQ 47.125 21.390625 47.125 36.375 \r\nQ 47.125 51.421875 43.28125 58.90625 \r\nQ 39.453125 66.40625 31.78125 66.40625 \r\nz\r\nM 31.78125 74.21875 \r\nQ 44.046875 74.21875 50.515625 64.515625 \r\nQ 56.984375 54.828125 56.984375 36.375 \r\nQ 56.984375 17.96875 50.515625 8.265625 \r\nQ 44.046875 -1.421875 31.78125 -1.421875 \r\nQ 19.53125 -1.421875 13.0625 8.265625 \r\nQ 6.59375 17.96875 6.59375 36.375 \r\nQ 6.59375 54.828125 13.0625 64.515625 \r\nQ 19.53125 74.21875 31.78125 74.21875 \r\nz\r\n\" id=\"DejaVuSans-48\"/>\r\n      </defs>\r\n      <g transform=\"translate(72.486932 268.889347)scale(0.1 -0.1)\">\r\n       <use xlink:href=\"#DejaVuSans-48\"/>\r\n      </g>\r\n     </g>\r\n    </g>\r\n    <g id=\"xtick_2\">\r\n     <g id=\"line2d_2\">\r\n      <g>\r\n       <use style=\"stroke:#000000;stroke-width:0.8;\" x=\"137.910234\" xlink:href=\"#mdc955b7e1e\" y=\"254.290909\"/>\r\n      </g>\r\n     </g>\r\n     <g id=\"text_2\">\r\n      <!-- 2000 -->\r\n      <defs>\r\n       <path d=\"M 19.1875 8.296875 \r\nL 53.609375 8.296875 \r\nL 53.609375 0 \r\nL 7.328125 0 \r\nL 7.328125 8.296875 \r\nQ 12.9375 14.109375 22.625 23.890625 \r\nQ 32.328125 33.6875 34.8125 36.53125 \r\nQ 39.546875 41.84375 41.421875 45.53125 \r\nQ 43.3125 49.21875 43.3125 52.78125 \r\nQ 43.3125 58.59375 39.234375 62.25 \r\nQ 35.15625 65.921875 28.609375 65.921875 \r\nQ 23.96875 65.921875 18.8125 64.3125 \r\nQ 13.671875 62.703125 7.8125 59.421875 \r\nL 7.8125 69.390625 \r\nQ 13.765625 71.78125 18.9375 73 \r\nQ 24.125 74.21875 28.421875 74.21875 \r\nQ 39.75 74.21875 46.484375 68.546875 \r\nQ 53.21875 62.890625 53.21875 53.421875 \r\nQ 53.21875 48.921875 51.53125 44.890625 \r\nQ 49.859375 40.875 45.40625 35.40625 \r\nQ 44.1875 33.984375 37.640625 27.21875 \r\nQ 31.109375 20.453125 19.1875 8.296875 \r\nz\r\n\" id=\"DejaVuSans-50\"/>\r\n      </defs>\r\n      <g transform=\"translate(125.185234 268.889347)scale(0.1 -0.1)\">\r\n       <use xlink:href=\"#DejaVuSans-50\"/>\r\n       <use x=\"63.623047\" xlink:href=\"#DejaVuSans-48\"/>\r\n       <use x=\"127.246094\" xlink:href=\"#DejaVuSans-48\"/>\r\n       <use x=\"190.869141\" xlink:href=\"#DejaVuSans-48\"/>\r\n      </g>\r\n     </g>\r\n    </g>\r\n    <g id=\"xtick_3\">\r\n     <g id=\"line2d_3\">\r\n      <g>\r\n       <use style=\"stroke:#000000;stroke-width:0.8;\" x=\"200.152287\" xlink:href=\"#mdc955b7e1e\" y=\"254.290909\"/>\r\n      </g>\r\n     </g>\r\n     <g id=\"text_3\">\r\n      <!-- 4000 -->\r\n      <defs>\r\n       <path d=\"M 37.796875 64.3125 \r\nL 12.890625 25.390625 \r\nL 37.796875 25.390625 \r\nz\r\nM 35.203125 72.90625 \r\nL 47.609375 72.90625 \r\nL 47.609375 25.390625 \r\nL 58.015625 25.390625 \r\nL 58.015625 17.1875 \r\nL 47.609375 17.1875 \r\nL 47.609375 0 \r\nL 37.796875 0 \r\nL 37.796875 17.1875 \r\nL 4.890625 17.1875 \r\nL 4.890625 26.703125 \r\nz\r\n\" id=\"DejaVuSans-52\"/>\r\n      </defs>\r\n      <g transform=\"translate(187.427287 268.889347)scale(0.1 -0.1)\">\r\n       <use xlink:href=\"#DejaVuSans-52\"/>\r\n       <use x=\"63.623047\" xlink:href=\"#DejaVuSans-48\"/>\r\n       <use x=\"127.246094\" xlink:href=\"#DejaVuSans-48\"/>\r\n       <use x=\"190.869141\" xlink:href=\"#DejaVuSans-48\"/>\r\n      </g>\r\n     </g>\r\n    </g>\r\n    <g id=\"xtick_4\">\r\n     <g id=\"line2d_4\">\r\n      <g>\r\n       <use style=\"stroke:#000000;stroke-width:0.8;\" x=\"262.394339\" xlink:href=\"#mdc955b7e1e\" y=\"254.290909\"/>\r\n      </g>\r\n     </g>\r\n     <g id=\"text_4\">\r\n      <!-- 6000 -->\r\n      <defs>\r\n       <path d=\"M 33.015625 40.375 \r\nQ 26.375 40.375 22.484375 35.828125 \r\nQ 18.609375 31.296875 18.609375 23.390625 \r\nQ 18.609375 15.53125 22.484375 10.953125 \r\nQ 26.375 6.390625 33.015625 6.390625 \r\nQ 39.65625 6.390625 43.53125 10.953125 \r\nQ 47.40625 15.53125 47.40625 23.390625 \r\nQ 47.40625 31.296875 43.53125 35.828125 \r\nQ 39.65625 40.375 33.015625 40.375 \r\nz\r\nM 52.59375 71.296875 \r\nL 52.59375 62.3125 \r\nQ 48.875 64.0625 45.09375 64.984375 \r\nQ 41.3125 65.921875 37.59375 65.921875 \r\nQ 27.828125 65.921875 22.671875 59.328125 \r\nQ 17.53125 52.734375 16.796875 39.40625 \r\nQ 19.671875 43.65625 24.015625 45.921875 \r\nQ 28.375 48.1875 33.59375 48.1875 \r\nQ 44.578125 48.1875 50.953125 41.515625 \r\nQ 57.328125 34.859375 57.328125 23.390625 \r\nQ 57.328125 12.15625 50.6875 5.359375 \r\nQ 44.046875 -1.421875 33.015625 -1.421875 \r\nQ 20.359375 -1.421875 13.671875 8.265625 \r\nQ 6.984375 17.96875 6.984375 36.375 \r\nQ 6.984375 53.65625 15.1875 63.9375 \r\nQ 23.390625 74.21875 37.203125 74.21875 \r\nQ 40.921875 74.21875 44.703125 73.484375 \r\nQ 48.484375 72.75 52.59375 71.296875 \r\nz\r\n\" id=\"DejaVuSans-54\"/>\r\n      </defs>\r\n      <g transform=\"translate(249.669339 268.889347)scale(0.1 -0.1)\">\r\n       <use xlink:href=\"#DejaVuSans-54\"/>\r\n       <use x=\"63.623047\" xlink:href=\"#DejaVuSans-48\"/>\r\n       <use x=\"127.246094\" xlink:href=\"#DejaVuSans-48\"/>\r\n       <use x=\"190.869141\" xlink:href=\"#DejaVuSans-48\"/>\r\n      </g>\r\n     </g>\r\n    </g>\r\n    <g id=\"xtick_5\">\r\n     <g id=\"line2d_5\">\r\n      <g>\r\n       <use style=\"stroke:#000000;stroke-width:0.8;\" x=\"324.636392\" xlink:href=\"#mdc955b7e1e\" y=\"254.290909\"/>\r\n      </g>\r\n     </g>\r\n     <g id=\"text_5\">\r\n      <!-- 8000 -->\r\n      <defs>\r\n       <path d=\"M 31.78125 34.625 \r\nQ 24.75 34.625 20.71875 30.859375 \r\nQ 16.703125 27.09375 16.703125 20.515625 \r\nQ 16.703125 13.921875 20.71875 10.15625 \r\nQ 24.75 6.390625 31.78125 6.390625 \r\nQ 38.8125 6.390625 42.859375 10.171875 \r\nQ 46.921875 13.96875 46.921875 20.515625 \r\nQ 46.921875 27.09375 42.890625 30.859375 \r\nQ 38.875 34.625 31.78125 34.625 \r\nz\r\nM 21.921875 38.8125 \r\nQ 15.578125 40.375 12.03125 44.71875 \r\nQ 8.5 49.078125 8.5 55.328125 \r\nQ 8.5 64.0625 14.71875 69.140625 \r\nQ 20.953125 74.21875 31.78125 74.21875 \r\nQ 42.671875 74.21875 48.875 69.140625 \r\nQ 55.078125 64.0625 55.078125 55.328125 \r\nQ 55.078125 49.078125 51.53125 44.71875 \r\nQ 48 40.375 41.703125 38.8125 \r\nQ 48.828125 37.15625 52.796875 32.3125 \r\nQ 56.78125 27.484375 56.78125 20.515625 \r\nQ 56.78125 9.90625 50.3125 4.234375 \r\nQ 43.84375 -1.421875 31.78125 -1.421875 \r\nQ 19.734375 -1.421875 13.25 4.234375 \r\nQ 6.78125 9.90625 6.78125 20.515625 \r\nQ 6.78125 27.484375 10.78125 32.3125 \r\nQ 14.796875 37.15625 21.921875 38.8125 \r\nz\r\nM 18.3125 54.390625 \r\nQ 18.3125 48.734375 21.84375 45.5625 \r\nQ 25.390625 42.390625 31.78125 42.390625 \r\nQ 38.140625 42.390625 41.71875 45.5625 \r\nQ 45.3125 48.734375 45.3125 54.390625 \r\nQ 45.3125 60.0625 41.71875 63.234375 \r\nQ 38.140625 66.40625 31.78125 66.40625 \r\nQ 25.390625 66.40625 21.84375 63.234375 \r\nQ 18.3125 60.0625 18.3125 54.390625 \r\nz\r\n\" id=\"DejaVuSans-56\"/>\r\n      </defs>\r\n      <g transform=\"translate(311.911392 268.889347)scale(0.1 -0.1)\">\r\n       <use xlink:href=\"#DejaVuSans-56\"/>\r\n       <use x=\"63.623047\" xlink:href=\"#DejaVuSans-48\"/>\r\n       <use x=\"127.246094\" xlink:href=\"#DejaVuSans-48\"/>\r\n       <use x=\"190.869141\" xlink:href=\"#DejaVuSans-48\"/>\r\n      </g>\r\n     </g>\r\n    </g>\r\n    <g id=\"xtick_6\">\r\n     <g id=\"line2d_6\">\r\n      <g>\r\n       <use style=\"stroke:#000000;stroke-width:0.8;\" x=\"386.878444\" xlink:href=\"#mdc955b7e1e\" y=\"254.290909\"/>\r\n      </g>\r\n     </g>\r\n     <g id=\"text_6\">\r\n      <!-- 10000 -->\r\n      <defs>\r\n       <path d=\"M 12.40625 8.296875 \r\nL 28.515625 8.296875 \r\nL 28.515625 63.921875 \r\nL 10.984375 60.40625 \r\nL 10.984375 69.390625 \r\nL 28.421875 72.90625 \r\nL 38.28125 72.90625 \r\nL 38.28125 8.296875 \r\nL 54.390625 8.296875 \r\nL 54.390625 0 \r\nL 12.40625 0 \r\nz\r\n\" id=\"DejaVuSans-49\"/>\r\n      </defs>\r\n      <g transform=\"translate(370.972194 268.889347)scale(0.1 -0.1)\">\r\n       <use xlink:href=\"#DejaVuSans-49\"/>\r\n       <use x=\"63.623047\" xlink:href=\"#DejaVuSans-48\"/>\r\n       <use x=\"127.246094\" xlink:href=\"#DejaVuSans-48\"/>\r\n       <use x=\"190.869141\" xlink:href=\"#DejaVuSans-48\"/>\r\n       <use x=\"254.492188\" xlink:href=\"#DejaVuSans-48\"/>\r\n      </g>\r\n     </g>\r\n    </g>\r\n    <g id=\"text_7\">\r\n     <!-- $r$ (m) -->\r\n     <defs>\r\n      <path d=\"M 44.578125 46.390625 \r\nQ 43.21875 47.125 41.453125 47.515625 \r\nQ 39.703125 47.90625 37.703125 47.90625 \r\nQ 30.515625 47.90625 25.140625 42.453125 \r\nQ 19.78125 37.015625 18.015625 27.875 \r\nL 12.5 0 \r\nL 3.515625 0 \r\nL 14.203125 54.6875 \r\nL 23.1875 54.6875 \r\nL 21.484375 46.1875 \r\nQ 25.046875 50.921875 30 53.453125 \r\nQ 34.96875 56 40.578125 56 \r\nQ 42.046875 56 43.453125 55.828125 \r\nQ 44.875 55.671875 46.296875 55.28125 \r\nz\r\n\" id=\"DejaVuSans-Oblique-114\"/>\r\n      <path id=\"DejaVuSans-32\"/>\r\n      <path d=\"M 31 75.875 \r\nQ 24.46875 64.65625 21.28125 53.65625 \r\nQ 18.109375 42.671875 18.109375 31.390625 \r\nQ 18.109375 20.125 21.3125 9.0625 \r\nQ 24.515625 -2 31 -13.1875 \r\nL 23.1875 -13.1875 \r\nQ 15.875 -1.703125 12.234375 9.375 \r\nQ 8.59375 20.453125 8.59375 31.390625 \r\nQ 8.59375 42.28125 12.203125 53.3125 \r\nQ 15.828125 64.359375 23.1875 75.875 \r\nz\r\n\" id=\"DejaVuSans-40\"/>\r\n      <path d=\"M 52 44.1875 \r\nQ 55.375 50.25 60.0625 53.125 \r\nQ 64.75 56 71.09375 56 \r\nQ 79.640625 56 84.28125 50.015625 \r\nQ 88.921875 44.046875 88.921875 33.015625 \r\nL 88.921875 0 \r\nL 79.890625 0 \r\nL 79.890625 32.71875 \r\nQ 79.890625 40.578125 77.09375 44.375 \r\nQ 74.3125 48.1875 68.609375 48.1875 \r\nQ 61.625 48.1875 57.5625 43.546875 \r\nQ 53.515625 38.921875 53.515625 30.90625 \r\nL 53.515625 0 \r\nL 44.484375 0 \r\nL 44.484375 32.71875 \r\nQ 44.484375 40.625 41.703125 44.40625 \r\nQ 38.921875 48.1875 33.109375 48.1875 \r\nQ 26.21875 48.1875 22.15625 43.53125 \r\nQ 18.109375 38.875 18.109375 30.90625 \r\nL 18.109375 0 \r\nL 9.078125 0 \r\nL 9.078125 54.6875 \r\nL 18.109375 54.6875 \r\nL 18.109375 46.1875 \r\nQ 21.1875 51.21875 25.484375 53.609375 \r\nQ 29.78125 56 35.6875 56 \r\nQ 41.65625 56 45.828125 52.96875 \r\nQ 50 49.953125 52 44.1875 \r\nz\r\n\" id=\"DejaVuSans-109\"/>\r\n      <path d=\"M 8.015625 75.875 \r\nL 15.828125 75.875 \r\nQ 23.140625 64.359375 26.78125 53.3125 \r\nQ 30.421875 42.28125 30.421875 31.390625 \r\nQ 30.421875 20.453125 26.78125 9.375 \r\nQ 23.140625 -1.703125 15.828125 -13.1875 \r\nL 8.015625 -13.1875 \r\nQ 14.5 -2 17.703125 9.0625 \r\nQ 20.90625 20.125 20.90625 31.390625 \r\nQ 20.90625 42.671875 17.703125 53.65625 \r\nQ 14.5 64.65625 8.015625 75.875 \r\nz\r\n\" id=\"DejaVuSans-41\"/>\r\n     </defs>\r\n     <g transform=\"translate(207.93 287.126534)scale(0.16 -0.16)\">\r\n      <use transform=\"translate(0 0.125)\" xlink:href=\"#DejaVuSans-Oblique-114\"/>\r\n      <use transform=\"translate(41.113281 0.125)\" xlink:href=\"#DejaVuSans-32\"/>\r\n      <use transform=\"translate(72.900391 0.125)\" xlink:href=\"#DejaVuSans-40\"/>\r\n      <use transform=\"translate(111.914062 0.125)\" xlink:href=\"#DejaVuSans-109\"/>\r\n      <use transform=\"translate(209.326172 0.125)\" xlink:href=\"#DejaVuSans-41\"/>\r\n     </g>\r\n    </g>\r\n   </g>\r\n   <g id=\"matplotlib.axis_2\">\r\n    <g id=\"ytick_1\">\r\n     <g id=\"line2d_7\">\r\n      <defs>\r\n       <path d=\"M 0 0 \r\nL -3.5 0 \r\n\" id=\"m0c87bf8471\" style=\"stroke:#000000;stroke-width:0.8;\"/>\r\n      </defs>\r\n      <g>\r\n       <use style=\"stroke:#000000;stroke-width:0.8;\" x=\"60.45\" xlink:href=\"#m0c87bf8471\" y=\"243.061703\"/>\r\n      </g>\r\n     </g>\r\n     <g id=\"text_8\">\r\n      <!-- 0 -->\r\n      <g transform=\"translate(47.0875 246.860922)scale(0.1 -0.1)\">\r\n       <use xlink:href=\"#DejaVuSans-48\"/>\r\n      </g>\r\n     </g>\r\n    </g>\r\n    <g id=\"ytick_2\">\r\n     <g id=\"line2d_8\">\r\n      <g>\r\n       <use style=\"stroke:#000000;stroke-width:0.8;\" x=\"60.45\" xlink:href=\"#m0c87bf8471\" y=\"205.62332\"/>\r\n      </g>\r\n     </g>\r\n     <g id=\"text_9\">\r\n      <!-- 200 -->\r\n      <g transform=\"translate(34.3625 209.422539)scale(0.1 -0.1)\">\r\n       <use xlink:href=\"#DejaVuSans-50\"/>\r\n       <use x=\"63.623047\" xlink:href=\"#DejaVuSans-48\"/>\r\n       <use x=\"127.246094\" xlink:href=\"#DejaVuSans-48\"/>\r\n      </g>\r\n     </g>\r\n    </g>\r\n    <g id=\"ytick_3\">\r\n     <g id=\"line2d_9\">\r\n      <g>\r\n       <use style=\"stroke:#000000;stroke-width:0.8;\" x=\"60.45\" xlink:href=\"#m0c87bf8471\" y=\"168.184937\"/>\r\n      </g>\r\n     </g>\r\n     <g id=\"text_10\">\r\n      <!-- 400 -->\r\n      <g transform=\"translate(34.3625 171.984156)scale(0.1 -0.1)\">\r\n       <use xlink:href=\"#DejaVuSans-52\"/>\r\n       <use x=\"63.623047\" xlink:href=\"#DejaVuSans-48\"/>\r\n       <use x=\"127.246094\" xlink:href=\"#DejaVuSans-48\"/>\r\n      </g>\r\n     </g>\r\n    </g>\r\n    <g id=\"ytick_4\">\r\n     <g id=\"line2d_10\">\r\n      <g>\r\n       <use style=\"stroke:#000000;stroke-width:0.8;\" x=\"60.45\" xlink:href=\"#m0c87bf8471\" y=\"130.746554\"/>\r\n      </g>\r\n     </g>\r\n     <g id=\"text_11\">\r\n      <!-- 600 -->\r\n      <g transform=\"translate(34.3625 134.545773)scale(0.1 -0.1)\">\r\n       <use xlink:href=\"#DejaVuSans-54\"/>\r\n       <use x=\"63.623047\" xlink:href=\"#DejaVuSans-48\"/>\r\n       <use x=\"127.246094\" xlink:href=\"#DejaVuSans-48\"/>\r\n      </g>\r\n     </g>\r\n    </g>\r\n    <g id=\"ytick_5\">\r\n     <g id=\"line2d_11\">\r\n      <g>\r\n       <use style=\"stroke:#000000;stroke-width:0.8;\" x=\"60.45\" xlink:href=\"#m0c87bf8471\" y=\"93.308171\"/>\r\n      </g>\r\n     </g>\r\n     <g id=\"text_12\">\r\n      <!-- 800 -->\r\n      <g transform=\"translate(34.3625 97.10739)scale(0.1 -0.1)\">\r\n       <use xlink:href=\"#DejaVuSans-56\"/>\r\n       <use x=\"63.623047\" xlink:href=\"#DejaVuSans-48\"/>\r\n       <use x=\"127.246094\" xlink:href=\"#DejaVuSans-48\"/>\r\n      </g>\r\n     </g>\r\n    </g>\r\n    <g id=\"ytick_6\">\r\n     <g id=\"line2d_12\">\r\n      <g>\r\n       <use style=\"stroke:#000000;stroke-width:0.8;\" x=\"60.45\" xlink:href=\"#m0c87bf8471\" y=\"55.869788\"/>\r\n      </g>\r\n     </g>\r\n     <g id=\"text_13\">\r\n      <!-- 1000 -->\r\n      <g transform=\"translate(28 59.669007)scale(0.1 -0.1)\">\r\n       <use xlink:href=\"#DejaVuSans-49\"/>\r\n       <use x=\"63.623047\" xlink:href=\"#DejaVuSans-48\"/>\r\n       <use x=\"127.246094\" xlink:href=\"#DejaVuSans-48\"/>\r\n       <use x=\"190.869141\" xlink:href=\"#DejaVuSans-48\"/>\r\n      </g>\r\n     </g>\r\n    </g>\r\n    <g id=\"ytick_7\">\r\n     <g id=\"line2d_13\">\r\n      <g>\r\n       <use style=\"stroke:#000000;stroke-width:0.8;\" x=\"60.45\" xlink:href=\"#m0c87bf8471\" y=\"18.431405\"/>\r\n      </g>\r\n     </g>\r\n     <g id=\"text_14\">\r\n      <!-- 1200 -->\r\n      <g transform=\"translate(28 22.230624)scale(0.1 -0.1)\">\r\n       <use xlink:href=\"#DejaVuSans-49\"/>\r\n       <use x=\"63.623047\" xlink:href=\"#DejaVuSans-50\"/>\r\n       <use x=\"127.246094\" xlink:href=\"#DejaVuSans-48\"/>\r\n       <use x=\"190.869141\" xlink:href=\"#DejaVuSans-48\"/>\r\n      </g>\r\n     </g>\r\n    </g>\r\n    <g id=\"text_15\">\r\n     <!-- $P$ (MeV fm$^{-3}$) -->\r\n     <defs>\r\n      <path d=\"M 16.890625 72.90625 \r\nL 39.703125 72.90625 \r\nQ 49.65625 72.90625 54.875 68.265625 \r\nQ 60.109375 63.625 60.109375 54.6875 \r\nQ 60.109375 42.671875 52.390625 35.984375 \r\nQ 44.671875 29.296875 30.71875 29.296875 \r\nL 18.3125 29.296875 \r\nL 12.59375 0 \r\nL 2.6875 0 \r\nz\r\nM 25.203125 64.796875 \r\nL 19.921875 37.40625 \r\nL 32.328125 37.40625 \r\nQ 40.71875 37.40625 45.203125 41.703125 \r\nQ 49.703125 46 49.703125 54 \r\nQ 49.703125 59.125 46.65625 61.953125 \r\nQ 43.609375 64.796875 38.09375 64.796875 \r\nz\r\n\" id=\"DejaVuSans-Oblique-80\"/>\r\n      <path d=\"M 9.8125 72.90625 \r\nL 24.515625 72.90625 \r\nL 43.109375 23.296875 \r\nL 61.8125 72.90625 \r\nL 76.515625 72.90625 \r\nL 76.515625 0 \r\nL 66.890625 0 \r\nL 66.890625 64.015625 \r\nL 48.09375 14.015625 \r\nL 38.1875 14.015625 \r\nL 19.390625 64.015625 \r\nL 19.390625 0 \r\nL 9.8125 0 \r\nz\r\n\" id=\"DejaVuSans-77\"/>\r\n      <path d=\"M 56.203125 29.59375 \r\nL 56.203125 25.203125 \r\nL 14.890625 25.203125 \r\nQ 15.484375 15.921875 20.484375 11.0625 \r\nQ 25.484375 6.203125 34.421875 6.203125 \r\nQ 39.59375 6.203125 44.453125 7.46875 \r\nQ 49.3125 8.734375 54.109375 11.28125 \r\nL 54.109375 2.78125 \r\nQ 49.265625 0.734375 44.1875 -0.34375 \r\nQ 39.109375 -1.421875 33.890625 -1.421875 \r\nQ 20.796875 -1.421875 13.15625 6.1875 \r\nQ 5.515625 13.8125 5.515625 26.8125 \r\nQ 5.515625 40.234375 12.765625 48.109375 \r\nQ 20.015625 56 32.328125 56 \r\nQ 43.359375 56 49.78125 48.890625 \r\nQ 56.203125 41.796875 56.203125 29.59375 \r\nz\r\nM 47.21875 32.234375 \r\nQ 47.125 39.59375 43.09375 43.984375 \r\nQ 39.0625 48.390625 32.421875 48.390625 \r\nQ 24.90625 48.390625 20.390625 44.140625 \r\nQ 15.875 39.890625 15.1875 32.171875 \r\nz\r\n\" id=\"DejaVuSans-101\"/>\r\n      <path d=\"M 28.609375 0 \r\nL 0.78125 72.90625 \r\nL 11.078125 72.90625 \r\nL 34.1875 11.53125 \r\nL 57.328125 72.90625 \r\nL 67.578125 72.90625 \r\nL 39.796875 0 \r\nz\r\n\" id=\"DejaVuSans-86\"/>\r\n      <path d=\"M 37.109375 75.984375 \r\nL 37.109375 68.5 \r\nL 28.515625 68.5 \r\nQ 23.6875 68.5 21.796875 66.546875 \r\nQ 19.921875 64.59375 19.921875 59.515625 \r\nL 19.921875 54.6875 \r\nL 34.71875 54.6875 \r\nL 34.71875 47.703125 \r\nL 19.921875 47.703125 \r\nL 19.921875 0 \r\nL 10.890625 0 \r\nL 10.890625 47.703125 \r\nL 2.296875 47.703125 \r\nL 2.296875 54.6875 \r\nL 10.890625 54.6875 \r\nL 10.890625 58.5 \r\nQ 10.890625 67.625 15.140625 71.796875 \r\nQ 19.390625 75.984375 28.609375 75.984375 \r\nz\r\n\" id=\"DejaVuSans-102\"/>\r\n      <path d=\"M 10.59375 35.5 \r\nL 73.1875 35.5 \r\nL 73.1875 27.203125 \r\nL 10.59375 27.203125 \r\nz\r\n\" id=\"DejaVuSans-8722\"/>\r\n      <path d=\"M 40.578125 39.3125 \r\nQ 47.65625 37.796875 51.625 33 \r\nQ 55.609375 28.21875 55.609375 21.1875 \r\nQ 55.609375 10.40625 48.1875 4.484375 \r\nQ 40.765625 -1.421875 27.09375 -1.421875 \r\nQ 22.515625 -1.421875 17.65625 -0.515625 \r\nQ 12.796875 0.390625 7.625 2.203125 \r\nL 7.625 11.71875 \r\nQ 11.71875 9.328125 16.59375 8.109375 \r\nQ 21.484375 6.890625 26.8125 6.890625 \r\nQ 36.078125 6.890625 40.9375 10.546875 \r\nQ 45.796875 14.203125 45.796875 21.1875 \r\nQ 45.796875 27.640625 41.28125 31.265625 \r\nQ 36.765625 34.90625 28.71875 34.90625 \r\nL 20.21875 34.90625 \r\nL 20.21875 43.015625 \r\nL 29.109375 43.015625 \r\nQ 36.375 43.015625 40.234375 45.921875 \r\nQ 44.09375 48.828125 44.09375 54.296875 \r\nQ 44.09375 59.90625 40.109375 62.90625 \r\nQ 36.140625 65.921875 28.71875 65.921875 \r\nQ 24.65625 65.921875 20.015625 65.03125 \r\nQ 15.375 64.15625 9.8125 62.3125 \r\nL 9.8125 71.09375 \r\nQ 15.4375 72.65625 20.34375 73.4375 \r\nQ 25.25 74.21875 29.59375 74.21875 \r\nQ 40.828125 74.21875 47.359375 69.109375 \r\nQ 53.90625 64.015625 53.90625 55.328125 \r\nQ 53.90625 49.265625 50.4375 45.09375 \r\nQ 46.96875 40.921875 40.578125 39.3125 \r\nz\r\n\" id=\"DejaVuSans-51\"/>\r\n     </defs>\r\n     <g transform=\"translate(20.6725 183.385455)rotate(-90)scale(0.16 -0.16)\">\r\n      <use transform=\"translate(0 0.765625)\" xlink:href=\"#DejaVuSans-Oblique-80\"/>\r\n      <use transform=\"translate(60.302734 0.765625)\" xlink:href=\"#DejaVuSans-32\"/>\r\n      <use transform=\"translate(92.089844 0.765625)\" xlink:href=\"#DejaVuSans-40\"/>\r\n      <use transform=\"translate(131.103516 0.765625)\" xlink:href=\"#DejaVuSans-77\"/>\r\n      <use transform=\"translate(217.382812 0.765625)\" xlink:href=\"#DejaVuSans-101\"/>\r\n      <use transform=\"translate(278.90625 0.765625)\" xlink:href=\"#DejaVuSans-86\"/>\r\n      <use transform=\"translate(347.314453 0.765625)\" xlink:href=\"#DejaVuSans-32\"/>\r\n      <use transform=\"translate(379.101562 0.765625)\" xlink:href=\"#DejaVuSans-102\"/>\r\n      <use transform=\"translate(414.306641 0.765625)\" xlink:href=\"#DejaVuSans-109\"/>\r\n      <use transform=\"translate(512.675781 39.046875)scale(0.7)\" xlink:href=\"#DejaVuSans-8722\"/>\r\n      <use transform=\"translate(571.328125 39.046875)scale(0.7)\" xlink:href=\"#DejaVuSans-51\"/>\r\n      <use transform=\"translate(618.598633 0.765625)\" xlink:href=\"#DejaVuSans-41\"/>\r\n     </g>\r\n    </g>\r\n   </g>\r\n   <g id=\"line2d_14\">\r\n    <path clip-path=\"url(#p378e658f1d)\" d=\"M 75.668182 18.431405 \r\nL 78.998132 18.542786 \r\nL 82.328081 18.876706 \r\nL 85.689152 19.438735 \r\nL 89.081344 20.233988 \r\nL 92.504657 21.267084 \r\nL 95.959091 22.542101 \r\nL 99.475767 24.077148 \r\nL 103.085806 25.898065 \r\nL 106.758087 28.000635 \r\nL 110.554852 30.434204 \r\nL 114.44498 33.194572 \r\nL 118.459593 36.318103 \r\nL 122.62981 39.847841 \r\nL 126.955633 43.80342 \r\nL 131.499303 48.26455 \r\nL 136.26082 53.256062 \r\nL 141.302426 58.868298 \r\nL 146.686364 65.199363 \r\nL 152.537117 72.429284 \r\nL 159.041411 80.829549 \r\nL 166.60382 90.973772 \r\nL 176.469186 104.607162 \r\nL 200.152287 137.477417 \r\nL 208.057027 147.976887 \r\nL 214.934774 156.749447 \r\nL 221.221221 164.411973 \r\nL 227.103095 171.235475 \r\nL 232.70488 177.398682 \r\nL 238.119939 183.030173 \r\nL 243.410513 188.213865 \r\nL 248.607724 192.996344 \r\nL 253.742694 197.420834 \r\nL 258.846542 201.52649 \r\nL 263.95039 205.348038 \r\nL 269.08536 208.915686 \r\nL 274.282571 212.255213 \r\nL 279.542025 215.370521 \r\nL 284.894841 218.283715 \r\nL 290.403263 221.027838 \r\nL 296.067289 223.600196 \r\nL 301.918042 226.012797 \r\nL 308.017764 228.286154 \r\nL 314.397574 230.424362 \r\nL 321.088595 232.430395 \r\nL 328.153067 234.314383 \r\nL 335.653235 236.082526 \r\nL 343.68246 237.744185 \r\nL 352.302984 239.298471 \r\nL 361.639292 240.752965 \r\nL 371.815867 242.110231 \r\nL 380.031818 243.059504 \r\nL 380.031818 243.059504 \r\n\" style=\"fill:none;stroke:#1f77b4;stroke-linecap:square;stroke-width:1.5;\"/>\r\n   </g>\r\n   <g id=\"patch_3\">\r\n    <path d=\"M 60.45 254.290909 \r\nL 60.45 7.2 \r\n\" style=\"fill:none;stroke:#000000;stroke-linecap:square;stroke-linejoin:miter;stroke-width:0.8;\"/>\r\n   </g>\r\n   <g id=\"patch_4\">\r\n    <path d=\"M 395.25 254.290909 \r\nL 395.25 7.2 \r\n\" style=\"fill:none;stroke:#000000;stroke-linecap:square;stroke-linejoin:miter;stroke-width:0.8;\"/>\r\n   </g>\r\n   <g id=\"patch_5\">\r\n    <path d=\"M 60.45 254.290909 \r\nL 395.25 254.290909 \r\n\" style=\"fill:none;stroke:#000000;stroke-linecap:square;stroke-linejoin:miter;stroke-width:0.8;\"/>\r\n   </g>\r\n   <g id=\"patch_6\">\r\n    <path d=\"M 60.45 7.2 \r\nL 395.25 7.2 \r\n\" style=\"fill:none;stroke:#000000;stroke-linecap:square;stroke-linejoin:miter;stroke-width:0.8;\"/>\r\n   </g>\r\n  </g>\r\n  <g id=\"axes_2\">\r\n   <g id=\"patch_7\">\r\n    <path d=\"M 60.45 550.8 \r\nL 395.25 550.8 \r\nL 395.25 303.709091 \r\nL 60.45 303.709091 \r\nz\r\n\" style=\"fill:#ffffff;\"/>\r\n   </g>\r\n   <g id=\"matplotlib.axis_3\">\r\n    <g id=\"xtick_7\">\r\n     <g id=\"line2d_15\">\r\n      <g>\r\n       <use style=\"stroke:#000000;stroke-width:0.8;\" x=\"75.668182\" xlink:href=\"#mdc955b7e1e\" y=\"550.8\"/>\r\n      </g>\r\n     </g>\r\n     <g id=\"text_16\">\r\n      <!-- 0 -->\r\n      <g transform=\"translate(72.486932 565.398438)scale(0.1 -0.1)\">\r\n       <use xlink:href=\"#DejaVuSans-48\"/>\r\n      </g>\r\n     </g>\r\n    </g>\r\n    <g id=\"xtick_8\">\r\n     <g id=\"line2d_16\">\r\n      <g>\r\n       <use style=\"stroke:#000000;stroke-width:0.8;\" x=\"137.910234\" xlink:href=\"#mdc955b7e1e\" y=\"550.8\"/>\r\n      </g>\r\n     </g>\r\n     <g id=\"text_17\">\r\n      <!-- 2000 -->\r\n      <g transform=\"translate(125.185234 565.398438)scale(0.1 -0.1)\">\r\n       <use xlink:href=\"#DejaVuSans-50\"/>\r\n       <use x=\"63.623047\" xlink:href=\"#DejaVuSans-48\"/>\r\n       <use x=\"127.246094\" xlink:href=\"#DejaVuSans-48\"/>\r\n       <use x=\"190.869141\" xlink:href=\"#DejaVuSans-48\"/>\r\n      </g>\r\n     </g>\r\n    </g>\r\n    <g id=\"xtick_9\">\r\n     <g id=\"line2d_17\">\r\n      <g>\r\n       <use style=\"stroke:#000000;stroke-width:0.8;\" x=\"200.152287\" xlink:href=\"#mdc955b7e1e\" y=\"550.8\"/>\r\n      </g>\r\n     </g>\r\n     <g id=\"text_18\">\r\n      <!-- 4000 -->\r\n      <g transform=\"translate(187.427287 565.398438)scale(0.1 -0.1)\">\r\n       <use xlink:href=\"#DejaVuSans-52\"/>\r\n       <use x=\"63.623047\" xlink:href=\"#DejaVuSans-48\"/>\r\n       <use x=\"127.246094\" xlink:href=\"#DejaVuSans-48\"/>\r\n       <use x=\"190.869141\" xlink:href=\"#DejaVuSans-48\"/>\r\n      </g>\r\n     </g>\r\n    </g>\r\n    <g id=\"xtick_10\">\r\n     <g id=\"line2d_18\">\r\n      <g>\r\n       <use style=\"stroke:#000000;stroke-width:0.8;\" x=\"262.394339\" xlink:href=\"#mdc955b7e1e\" y=\"550.8\"/>\r\n      </g>\r\n     </g>\r\n     <g id=\"text_19\">\r\n      <!-- 6000 -->\r\n      <g transform=\"translate(249.669339 565.398438)scale(0.1 -0.1)\">\r\n       <use xlink:href=\"#DejaVuSans-54\"/>\r\n       <use x=\"63.623047\" xlink:href=\"#DejaVuSans-48\"/>\r\n       <use x=\"127.246094\" xlink:href=\"#DejaVuSans-48\"/>\r\n       <use x=\"190.869141\" xlink:href=\"#DejaVuSans-48\"/>\r\n      </g>\r\n     </g>\r\n    </g>\r\n    <g id=\"xtick_11\">\r\n     <g id=\"line2d_19\">\r\n      <g>\r\n       <use style=\"stroke:#000000;stroke-width:0.8;\" x=\"324.636392\" xlink:href=\"#mdc955b7e1e\" y=\"550.8\"/>\r\n      </g>\r\n     </g>\r\n     <g id=\"text_20\">\r\n      <!-- 8000 -->\r\n      <g transform=\"translate(311.911392 565.398438)scale(0.1 -0.1)\">\r\n       <use xlink:href=\"#DejaVuSans-56\"/>\r\n       <use x=\"63.623047\" xlink:href=\"#DejaVuSans-48\"/>\r\n       <use x=\"127.246094\" xlink:href=\"#DejaVuSans-48\"/>\r\n       <use x=\"190.869141\" xlink:href=\"#DejaVuSans-48\"/>\r\n      </g>\r\n     </g>\r\n    </g>\r\n    <g id=\"xtick_12\">\r\n     <g id=\"line2d_20\">\r\n      <g>\r\n       <use style=\"stroke:#000000;stroke-width:0.8;\" x=\"386.878444\" xlink:href=\"#mdc955b7e1e\" y=\"550.8\"/>\r\n      </g>\r\n     </g>\r\n     <g id=\"text_21\">\r\n      <!-- 10000 -->\r\n      <g transform=\"translate(370.972194 565.398438)scale(0.1 -0.1)\">\r\n       <use xlink:href=\"#DejaVuSans-49\"/>\r\n       <use x=\"63.623047\" xlink:href=\"#DejaVuSans-48\"/>\r\n       <use x=\"127.246094\" xlink:href=\"#DejaVuSans-48\"/>\r\n       <use x=\"190.869141\" xlink:href=\"#DejaVuSans-48\"/>\r\n       <use x=\"254.492188\" xlink:href=\"#DejaVuSans-48\"/>\r\n      </g>\r\n     </g>\r\n    </g>\r\n    <g id=\"text_22\">\r\n     <!-- $r$ (m) -->\r\n     <g transform=\"translate(207.93 583.635625)scale(0.16 -0.16)\">\r\n      <use transform=\"translate(0 0.125)\" xlink:href=\"#DejaVuSans-Oblique-114\"/>\r\n      <use transform=\"translate(41.113281 0.125)\" xlink:href=\"#DejaVuSans-32\"/>\r\n      <use transform=\"translate(72.900391 0.125)\" xlink:href=\"#DejaVuSans-40\"/>\r\n      <use transform=\"translate(111.914062 0.125)\" xlink:href=\"#DejaVuSans-109\"/>\r\n      <use transform=\"translate(209.326172 0.125)\" xlink:href=\"#DejaVuSans-41\"/>\r\n     </g>\r\n    </g>\r\n   </g>\r\n   <g id=\"matplotlib.axis_4\">\r\n    <g id=\"ytick_8\">\r\n     <g id=\"line2d_21\">\r\n      <g>\r\n       <use style=\"stroke:#000000;stroke-width:0.8;\" x=\"60.45\" xlink:href=\"#m0c87bf8471\" y=\"511.22758\"/>\r\n      </g>\r\n     </g>\r\n     <g id=\"text_23\">\r\n      <!-- 0.2 -->\r\n      <defs>\r\n       <path d=\"M 10.6875 12.40625 \r\nL 21 12.40625 \r\nL 21 0 \r\nL 10.6875 0 \r\nz\r\n\" id=\"DejaVuSans-46\"/>\r\n      </defs>\r\n      <g transform=\"translate(37.546875 515.026799)scale(0.1 -0.1)\">\r\n       <use xlink:href=\"#DejaVuSans-48\"/>\r\n       <use x=\"63.623047\" xlink:href=\"#DejaVuSans-46\"/>\r\n       <use x=\"95.410156\" xlink:href=\"#DejaVuSans-50\"/>\r\n      </g>\r\n     </g>\r\n    </g>\r\n    <g id=\"ytick_9\">\r\n     <g id=\"line2d_22\">\r\n      <g>\r\n       <use style=\"stroke:#000000;stroke-width:0.8;\" x=\"60.45\" xlink:href=\"#m0c87bf8471\" y=\"462.155809\"/>\r\n      </g>\r\n     </g>\r\n     <g id=\"text_24\">\r\n      <!-- 0.4 -->\r\n      <g transform=\"translate(37.546875 465.955028)scale(0.1 -0.1)\">\r\n       <use xlink:href=\"#DejaVuSans-48\"/>\r\n       <use x=\"63.623047\" xlink:href=\"#DejaVuSans-46\"/>\r\n       <use x=\"95.410156\" xlink:href=\"#DejaVuSans-52\"/>\r\n      </g>\r\n     </g>\r\n    </g>\r\n    <g id=\"ytick_10\">\r\n     <g id=\"line2d_23\">\r\n      <g>\r\n       <use style=\"stroke:#000000;stroke-width:0.8;\" x=\"60.45\" xlink:href=\"#m0c87bf8471\" y=\"413.084038\"/>\r\n      </g>\r\n     </g>\r\n     <g id=\"text_25\">\r\n      <!-- 0.6 -->\r\n      <g transform=\"translate(37.546875 416.883257)scale(0.1 -0.1)\">\r\n       <use xlink:href=\"#DejaVuSans-48\"/>\r\n       <use x=\"63.623047\" xlink:href=\"#DejaVuSans-46\"/>\r\n       <use x=\"95.410156\" xlink:href=\"#DejaVuSans-54\"/>\r\n      </g>\r\n     </g>\r\n    </g>\r\n    <g id=\"ytick_11\">\r\n     <g id=\"line2d_24\">\r\n      <g>\r\n       <use style=\"stroke:#000000;stroke-width:0.8;\" x=\"60.45\" xlink:href=\"#m0c87bf8471\" y=\"364.012267\"/>\r\n      </g>\r\n     </g>\r\n     <g id=\"text_26\">\r\n      <!-- 0.8 -->\r\n      <g transform=\"translate(37.546875 367.811486)scale(0.1 -0.1)\">\r\n       <use xlink:href=\"#DejaVuSans-48\"/>\r\n       <use x=\"63.623047\" xlink:href=\"#DejaVuSans-46\"/>\r\n       <use x=\"95.410156\" xlink:href=\"#DejaVuSans-56\"/>\r\n      </g>\r\n     </g>\r\n    </g>\r\n    <g id=\"ytick_12\">\r\n     <g id=\"line2d_25\">\r\n      <g>\r\n       <use style=\"stroke:#000000;stroke-width:0.8;\" x=\"60.45\" xlink:href=\"#m0c87bf8471\" y=\"314.940496\"/>\r\n      </g>\r\n     </g>\r\n     <g id=\"text_27\">\r\n      <!-- 1.0 -->\r\n      <g transform=\"translate(37.546875 318.739715)scale(0.1 -0.1)\">\r\n       <use xlink:href=\"#DejaVuSans-49\"/>\r\n       <use x=\"63.623047\" xlink:href=\"#DejaVuSans-46\"/>\r\n       <use x=\"95.410156\" xlink:href=\"#DejaVuSans-48\"/>\r\n      </g>\r\n     </g>\r\n    </g>\r\n    <g id=\"text_28\">\r\n     <!-- f,b -->\r\n     <defs>\r\n      <path d=\"M 11.71875 12.40625 \r\nL 22.015625 12.40625 \r\nL 22.015625 4 \r\nL 14.015625 -11.625 \r\nL 7.71875 -11.625 \r\nL 11.71875 4 \r\nz\r\n\" id=\"DejaVuSans-44\"/>\r\n      <path d=\"M 48.6875 27.296875 \r\nQ 48.6875 37.203125 44.609375 42.84375 \r\nQ 40.53125 48.484375 33.40625 48.484375 \r\nQ 26.265625 48.484375 22.1875 42.84375 \r\nQ 18.109375 37.203125 18.109375 27.296875 \r\nQ 18.109375 17.390625 22.1875 11.75 \r\nQ 26.265625 6.109375 33.40625 6.109375 \r\nQ 40.53125 6.109375 44.609375 11.75 \r\nQ 48.6875 17.390625 48.6875 27.296875 \r\nz\r\nM 18.109375 46.390625 \r\nQ 20.953125 51.265625 25.265625 53.625 \r\nQ 29.59375 56 35.59375 56 \r\nQ 45.5625 56 51.78125 48.09375 \r\nQ 58.015625 40.1875 58.015625 27.296875 \r\nQ 58.015625 14.40625 51.78125 6.484375 \r\nQ 45.5625 -1.421875 35.59375 -1.421875 \r\nQ 29.59375 -1.421875 25.265625 0.953125 \r\nQ 20.953125 3.328125 18.109375 8.203125 \r\nL 18.109375 0 \r\nL 9.078125 0 \r\nL 9.078125 75.984375 \r\nL 18.109375 75.984375 \r\nz\r\n\" id=\"DejaVuSans-98\"/>\r\n     </defs>\r\n     <g transform=\"translate(30.219375 437.692045)rotate(-90)scale(0.16 -0.16)\">\r\n      <use xlink:href=\"#DejaVuSans-102\"/>\r\n      <use x=\"35.205078\" xlink:href=\"#DejaVuSans-44\"/>\r\n      <use x=\"66.992188\" xlink:href=\"#DejaVuSans-98\"/>\r\n     </g>\r\n    </g>\r\n   </g>\r\n   <g id=\"line2d_26\">\r\n    <path clip-path=\"url(#p894a49f7b8)\" d=\"M 75.668182 314.940496 \r\nL 78.93589 315.052272 \r\nL 82.203597 315.387172 \r\nL 85.502426 315.950271 \r\nL 88.832376 316.745731 \r\nL 92.224568 317.787334 \r\nL 95.679002 319.083501 \r\nL 99.195678 320.64137 \r\nL 102.836838 322.50046 \r\nL 106.602482 324.677174 \r\nL 110.49261 327.18557 \r\nL 114.569465 330.083074 \r\nL 118.833045 333.389251 \r\nL 123.345594 337.1727 \r\nL 128.200474 341.539327 \r\nL 133.459927 346.576 \r\nL 139.279559 352.4644 \r\nL 146.001701 359.593746 \r\nL 154.435499 368.88165 \r\nL 183.315811 400.963999 \r\nL 190.504769 408.453984 \r\nL 196.977942 414.881834 \r\nL 202.9843 420.536808 \r\nL 208.679448 425.59747 \r\nL 214.156748 430.171041 \r\nL 219.478444 434.328758 \r\nL 224.706776 438.133633 \r\nL 229.872867 441.619004 \r\nL 234.976715 444.79604 \r\nL 240.080563 447.712185 \r\nL 245.184412 450.373415 \r\nL 250.319381 452.801479 \r\nL 255.516592 455.013843 \r\nL 260.807167 457.023916 \r\nL 266.191104 458.831569 \r\nL 271.699526 460.446953 \r\nL 277.394674 461.884157 \r\nL 283.276548 463.137533 \r\nL 289.376269 464.208802 \r\nL 295.756079 465.101567 \r\nL 302.4471 465.811089 \r\nL 309.511573 466.333851 \r\nL 316.980619 466.661691 \r\nL 324.978723 466.787419 \r\nL 333.568126 466.697059 \r\nL 342.873313 466.373624 \r\nL 353.049888 465.793589 \r\nL 364.284579 464.926023 \r\nL 376.795231 463.732477 \r\nL 380.031818 463.390758 \r\nL 380.031818 463.390758 \r\n\" style=\"fill:none;stroke:#1f77b4;stroke-linecap:square;stroke-width:1.5;\"/>\r\n   </g>\r\n   <g id=\"line2d_27\">\r\n    <path clip-path=\"url(#p894a49f7b8)\" d=\"M 75.668182 539.568595 \r\nL 91.477663 539.457558 \r\nL 106.975934 539.127721 \r\nL 121.820664 538.591749 \r\nL 135.856247 537.865287 \r\nL 149.020441 536.964297 \r\nL 161.375488 535.898193 \r\nL 172.983631 534.675167 \r\nL 183.938232 533.298965 \r\nL 194.332655 531.770822 \r\nL 204.291383 530.0835 \r\nL 213.90778 528.229803 \r\nL 223.275209 526.198418 \r\nL 232.487033 523.973402 \r\nL 241.605494 521.542503 \r\nL 250.755075 518.872511 \r\nL 259.99802 515.942552 \r\nL 269.427691 512.719202 \r\nL 279.199693 509.141629 \r\nL 289.40739 505.165546 \r\nL 300.268628 500.693549 \r\nL 312.063497 495.59275 \r\nL 325.227691 489.652263 \r\nL 340.66372 482.434115 \r\nL 360.767903 472.771065 \r\nL 380.031818 463.388106 \r\nL 380.031818 463.388106 \r\n\" style=\"fill:none;stroke:#ff7f0e;stroke-linecap:square;stroke-width:1.5;\"/>\r\n   </g>\r\n   <g id=\"patch_8\">\r\n    <path d=\"M 60.45 550.8 \r\nL 60.45 303.709091 \r\n\" style=\"fill:none;stroke:#000000;stroke-linecap:square;stroke-linejoin:miter;stroke-width:0.8;\"/>\r\n   </g>\r\n   <g id=\"patch_9\">\r\n    <path d=\"M 395.25 550.8 \r\nL 395.25 303.709091 \r\n\" style=\"fill:none;stroke:#000000;stroke-linecap:square;stroke-linejoin:miter;stroke-width:0.8;\"/>\r\n   </g>\r\n   <g id=\"patch_10\">\r\n    <path d=\"M 60.45 550.8 \r\nL 395.25 550.8 \r\n\" style=\"fill:none;stroke:#000000;stroke-linecap:square;stroke-linejoin:miter;stroke-width:0.8;\"/>\r\n   </g>\r\n   <g id=\"patch_11\">\r\n    <path d=\"M 60.45 303.709091 \r\nL 395.25 303.709091 \r\n\" style=\"fill:none;stroke:#000000;stroke-linecap:square;stroke-linejoin:miter;stroke-width:0.8;\"/>\r\n   </g>\r\n  </g>\r\n </g>\r\n <defs>\r\n  <clipPath id=\"p378e658f1d\">\r\n   <rect height=\"247.090909\" width=\"334.8\" x=\"60.45\" y=\"7.2\"/>\r\n  </clipPath>\r\n  <clipPath id=\"p894a49f7b8\">\r\n   <rect height=\"247.090909\" width=\"334.8\" x=\"60.45\" y=\"303.709091\"/>\r\n  </clipPath>\r\n </defs>\r\n</svg>\r\n",
      "image/png": "[encoded data removed]"
     },
     "metadata": {
      "needs_background": "light"
     }
    }
   ],
   "source": [
    "# plotting the profile from 1 PCC\n",
    "\n",
    "profile=np.loadtxt(\"profileST.dat\")[:, :]\n",
    "profr0=profile[:,0]\n",
    "profb0=profile[:,1]\n",
    "profP0=profile[:,2]\n",
    "proff0=profile[:,3]\n",
    "\n",
    "fig, ax = plt.subplots(2, 1, figsize = (6,10))\n",
    "\n",
    "ax[0].plot(profr0, profP0)\n",
    "ax[0].set_xlabel(r'$r$ (m)', fontsize=16)\n",
    "ax[0].set_ylabel(r'$P$ (MeV fm$^{-3}$)', fontsize=16)\n",
    "\n",
    "ax[1].plot(profr0, proff0, profr0, profb0)\n",
    "ax[1].set_xlabel(r'$r$ (m)', fontsize=16)\n",
    "ax[1].set_ylabel(r'f,b', fontsize=16)\n",
    "\n",
    "plt.show()"
   ]
  },
  {
   "cell_type": "code",
   "execution_count": 75,
   "metadata": {},
   "outputs": [
    {
     "output_type": "stream",
     "name": "stdout",
     "text": [
      "0.026525823848649224 0.02652582384864922 0.0022308217856713995\n"
     ]
    }
   ],
   "source": [
    "print(1/(12*PI),4*kappa/3*GS,(0.29*UBQ)**2*GS)"
   ]
  },
  {
   "cell_type": "code",
   "execution_count": 66,
   "metadata": {
    "tags": []
   },
   "outputs": [
    {
     "output_type": "stream",
     "name": "stdout",
     "text": [
      "600 10.787000000001001 2.1909033195126004 0.3001981334118665 0.29 0.8432562294477739\n",
      "599 10.789000000001 2.1911708280000832 0.3001791317721635 0.29 0.8428755071123297\n",
      "598 10.791000000001 2.1914567882566627 0.30016266450492135 0.29 0.8425522033863203\n",
      "597 10.794000000001 2.191918154472108 0.300142415160299 0.29 0.8421719525198126\n",
      "596 10.796000000001001 2.1921831292927076 0.30012308928878006 0.29 0.8417890354578741\n",
      "595 10.799000000001 2.1926616590437185 0.3001052094525909 0.29 0.8414635601910614\n",
      "594 10.801000000001 2.1929249586135438 0.3000856701709531 0.29 0.8410792017694407\n",
      "593 10.803000000001001 2.19320664586038 0.3000686538767528 0.29 0.8407523185858478\n",
      "592 10.806000000001001 2.1936642317915425 0.30004793605370084 0.29 0.8403685006720939\n",
      "591 10.808000000001 2.1939249415576167 0.3000280658592862 0.29 0.8399819762794625\n",
      "590 10.810000000001 2.194203957146214 0.30001070594913937 0.29 0.8396528372618934\n",
      "589 10.813000000001 2.194658542108089 0.2999896074105968 0.29 0.8392648535590881\n",
      "588 10.815000000001 2.194935790735685 0.29997202115572763 0.29 0.8389342307191502\n",
      "587 10.818000000001 2.1953888290373853 0.2999507317801852 0.29 0.8385448406088188\n",
      "586 10.820000000001 2.1956458131617143 0.29993039265903015 0.29 0.8381566841059914\n",
      "585 10.822000000001001 2.1959203306176165 0.2999124557073493 0.29 0.8378238356887352\n",
      "584 10.825000000001001 2.1963709321697817 0.29989086389437347 0.29 0.8374321813506344\n",
      "583 10.827000000001 2.1966436296858878 0.29987269408068296 0.29 0.8370978305774864\n",
      "582 10.830000000001 2.1970926350979747 0.2998509054153576 0.29 0.8367047535340199\n",
      "581 10.832000000001 2.197345103900604 0.29982999113794206 0.29 0.8363129306114577\n"
     ]
    },
    {
     "output_type": "error",
     "ename": "KeyboardInterrupt",
     "evalue": "",
     "traceback": [
      "\u001b[1;31m---------------------------------------------------------------------------\u001b[0m",
      "\u001b[1;31mKeyboardInterrupt\u001b[0m                         Traceback (most recent call last)",
      "\u001b[1;32m<ipython-input-66-e005681c4821>\u001b[0m in \u001b[0;36m<module>\u001b[1;34m\u001b[0m\n\u001b[0;32m     29\u001b[0m         \u001b[0mbCC\u001b[0m\u001b[1;33m=\u001b[0m\u001b[0mbCC\u001b[0m\u001b[1;33m*\u001b[0m\u001b[0mbCorrection\u001b[0m\u001b[1;33m\u001b[0m\u001b[1;33m\u001b[0m\u001b[0m\n\u001b[0;32m     30\u001b[0m         \u001b[0mQ\u001b[0m\u001b[1;33m=\u001b[0m\u001b[0mQ\u001b[0m\u001b[1;33m/\u001b[0m\u001b[0mnp\u001b[0m\u001b[1;33m.\u001b[0m\u001b[0msqrt\u001b[0m\u001b[1;33m(\u001b[0m\u001b[0mbCorrection\u001b[0m\u001b[1;33m)\u001b[0m\u001b[1;33m\u001b[0m\u001b[1;33m\u001b[0m\u001b[0m\n\u001b[1;32m---> 31\u001b[1;33m         \u001b[0moutput\u001b[0m\u001b[1;33m=\u001b[0m\u001b[0mRungeKutta\u001b[0m\u001b[1;33m(\u001b[0m\u001b[0mrCC\u001b[0m\u001b[1;33m,\u001b[0m\u001b[0mbCC\u001b[0m\u001b[1;33m,\u001b[0m\u001b[0mPCC\u001b[0m\u001b[1;33m,\u001b[0m\u001b[0mfCC\u001b[0m\u001b[1;33m,\u001b[0m\u001b[0mh\u001b[0m\u001b[1;33m,\u001b[0m\u001b[1;36m0\u001b[0m\u001b[1;33m)\u001b[0m\u001b[1;33m\u001b[0m\u001b[1;33m\u001b[0m\u001b[0m\n\u001b[0m\u001b[0;32m     32\u001b[0m         \u001b[0mrSurface\u001b[0m\u001b[1;33m=\u001b[0m\u001b[0moutput\u001b[0m\u001b[1;33m[\u001b[0m\u001b[1;36m0\u001b[0m\u001b[1;33m]\u001b[0m\u001b[1;33m\u001b[0m\u001b[1;33m\u001b[0m\u001b[0m\n\u001b[0;32m     33\u001b[0m         \u001b[0mbSurface\u001b[0m\u001b[1;33m=\u001b[0m\u001b[0moutput\u001b[0m\u001b[1;33m[\u001b[0m\u001b[1;36m1\u001b[0m\u001b[1;33m]\u001b[0m\u001b[1;33m\u001b[0m\u001b[1;33m\u001b[0m\u001b[0m\n",
      "\u001b[1;32m<ipython-input-62-f5a6a6877e61>\u001b[0m in \u001b[0;36mRungeKutta\u001b[1;34m(rCC, bCC, PCC, fCC, h, profile)\u001b[0m\n\u001b[0;32m     74\u001b[0m         \u001b[0mk3_b\u001b[0m \u001b[1;33m=\u001b[0m \u001b[0mh\u001b[0m \u001b[1;33m*\u001b[0m \u001b[0mb1\u001b[0m\u001b[1;33m(\u001b[0m\u001b[0mr01\u001b[0m\u001b[1;33m,\u001b[0m\u001b[0mP01\u001b[0m\u001b[1;33m,\u001b[0m\u001b[0mf01\u001b[0m\u001b[1;33m,\u001b[0m\u001b[0mb01\u001b[0m\u001b[1;33m)\u001b[0m\u001b[1;33m\u001b[0m\u001b[1;33m\u001b[0m\u001b[0m\n\u001b[0;32m     75\u001b[0m         \u001b[0mk3_P\u001b[0m \u001b[1;33m=\u001b[0m \u001b[0mh\u001b[0m \u001b[1;33m*\u001b[0m \u001b[0mP1\u001b[0m\u001b[1;33m(\u001b[0m\u001b[0mr01\u001b[0m\u001b[1;33m,\u001b[0m\u001b[0mP01\u001b[0m\u001b[1;33m,\u001b[0m\u001b[0mf01\u001b[0m\u001b[1;33m,\u001b[0m\u001b[0mb01\u001b[0m\u001b[1;33m)\u001b[0m\u001b[1;33m\u001b[0m\u001b[1;33m\u001b[0m\u001b[0m\n\u001b[1;32m---> 76\u001b[1;33m         \u001b[0mk3_f\u001b[0m \u001b[1;33m=\u001b[0m \u001b[0mh\u001b[0m \u001b[1;33m*\u001b[0m \u001b[0mf1\u001b[0m\u001b[1;33m(\u001b[0m\u001b[0mr01\u001b[0m\u001b[1;33m,\u001b[0m\u001b[0mP01\u001b[0m\u001b[1;33m,\u001b[0m\u001b[0mf01\u001b[0m\u001b[1;33m,\u001b[0m\u001b[0mb01\u001b[0m\u001b[1;33m)\u001b[0m\u001b[1;33m\u001b[0m\u001b[1;33m\u001b[0m\u001b[0m\n\u001b[0m\u001b[0;32m     77\u001b[0m         \u001b[1;31m# calculate k4\u001b[0m\u001b[1;33m\u001b[0m\u001b[1;33m\u001b[0m\u001b[1;33m\u001b[0m\u001b[0m\n\u001b[0;32m     78\u001b[0m         \u001b[0mr01\u001b[0m \u001b[1;33m=\u001b[0m \u001b[0mr0\u001b[0m \u001b[1;33m+\u001b[0m \u001b[0mh\u001b[0m\u001b[1;33m\u001b[0m\u001b[1;33m\u001b[0m\u001b[0m\n",
      "\u001b[1;32m<ipython-input-62-f5a6a6877e61>\u001b[0m in \u001b[0;36mf1\u001b[1;34m(r, P, f, b)\u001b[0m\n\u001b[0;32m     36\u001b[0m     \u001b[0mA\u001b[0m \u001b[1;33m=\u001b[0m \u001b[0mr\u001b[0m\u001b[1;33m*\u001b[0m\u001b[0mb\u001b[0m\u001b[1;33m/\u001b[0m\u001b[0mf\u001b[0m\u001b[1;33m*\u001b[0m\u001b[1;33m(\u001b[0m\u001b[0mP\u001b[0m\u001b[1;33m*\u001b[0m\u001b[0mr\u001b[0m\u001b[1;33m**\u001b[0m\u001b[1;36m2\u001b[0m\u001b[1;33m+\u001b[0m\u001b[1;36m4\u001b[0m\u001b[1;33m*\u001b[0m\u001b[0mkappa\u001b[0m\u001b[1;33m)\u001b[0m\u001b[1;33m-\u001b[0m\u001b[1;36m3\u001b[0m\u001b[1;33m*\u001b[0m\u001b[0meta\u001b[0m\u001b[1;33m*\u001b[0m\u001b[0mQinf\u001b[0m\u001b[1;33m**\u001b[0m\u001b[1;36m2\u001b[0m\u001b[1;33m*\u001b[0m\u001b[0mr\u001b[0m\u001b[1;33m\u001b[0m\u001b[1;33m\u001b[0m\u001b[0m\n\u001b[0;32m     37\u001b[0m     \u001b[0mB\u001b[0m \u001b[1;33m=\u001b[0m \u001b[1;36m3\u001b[0m\u001b[1;33m*\u001b[0m\u001b[1;33m(\u001b[0m\u001b[1;36m1\u001b[0m\u001b[1;33m-\u001b[0m\u001b[0mf\u001b[0m\u001b[1;33m)\u001b[0m\u001b[1;33m*\u001b[0m\u001b[0meta\u001b[0m\u001b[1;33m*\u001b[0m\u001b[0mQinf\u001b[0m\u001b[1;33m**\u001b[0m\u001b[1;36m2\u001b[0m\u001b[1;33m\u001b[0m\u001b[1;33m\u001b[0m\u001b[0m\n\u001b[1;32m---> 38\u001b[1;33m     \u001b[0mB\u001b[0m \u001b[1;33m=\u001b[0m \u001b[0mB\u001b[0m \u001b[1;33m+\u001b[0m \u001b[0mb\u001b[0m\u001b[1;33m/\u001b[0m\u001b[0mf\u001b[0m\u001b[1;33m*\u001b[0m\u001b[1;33m(\u001b[0m\u001b[1;36m6\u001b[0m\u001b[1;33m*\u001b[0m\u001b[0mr\u001b[0m\u001b[1;33m**\u001b[0m\u001b[1;36m2\u001b[0m\u001b[1;33m*\u001b[0m\u001b[0mf\u001b[0m\u001b[1;33m*\u001b[0m\u001b[0mP\u001b[0m \u001b[1;33m+\u001b[0m \u001b[1;33m(\u001b[0m\u001b[1;36m1\u001b[0m\u001b[1;33m+\u001b[0m\u001b[0mf\u001b[0m\u001b[1;33m)\u001b[0m\u001b[1;33m*\u001b[0m\u001b[0mr\u001b[0m\u001b[1;33m**\u001b[0m\u001b[1;36m2\u001b[0m\u001b[1;33m*\u001b[0m\u001b[0meden\u001b[0m\u001b[1;33m(\u001b[0m\u001b[0mP\u001b[0m\u001b[1;33m)\u001b[0m \u001b[1;33m-\u001b[0m\u001b[1;36m4\u001b[0m\u001b[1;33m*\u001b[0m\u001b[0mkappa\u001b[0m\u001b[1;33m*\u001b[0m\u001b[1;33m(\u001b[0m\u001b[1;36m1\u001b[0m\u001b[1;33m-\u001b[0m\u001b[0mf\u001b[0m\u001b[1;33m)\u001b[0m\u001b[1;33m)\u001b[0m\u001b[1;33m\u001b[0m\u001b[1;33m\u001b[0m\u001b[0m\n\u001b[0m\u001b[0;32m     39\u001b[0m     \u001b[1;32mreturn\u001b[0m \u001b[1;33m-\u001b[0m\u001b[0mB\u001b[0m\u001b[1;33m/\u001b[0m\u001b[0mA\u001b[0m\u001b[1;33m\u001b[0m\u001b[1;33m\u001b[0m\u001b[0m\n\u001b[0;32m     40\u001b[0m \u001b[1;33m\u001b[0m\u001b[0m\n",
      "\u001b[1;31mKeyboardInterrupt\u001b[0m: "
     ]
    }
   ],
   "source": [
    "# FOR MULTIPLE PCC\n",
    "\n",
    "h = 1. # h-step\n",
    "\n",
    "for x in range(600, 0, -1):\n",
    "    # define initial parameters\n",
    "    PCC=x    # pressure at the center in MeV / fm^3\n",
    "    fCC = 1. # metric function f(r) at the center\n",
    "    bCC = 1. # metric function b(r) at the center\n",
    "    UBQ=np.sqrt(4*kappa/3)\n",
    "    Qinf = .29*UBQ\n",
    "    eta = -1.\n",
    "    Q = Qinf\n",
    "    \n",
    "    # calculate the surface values\n",
    "    output=RungeKutta(rCC,bCC,PCC,fCC,h,0)\n",
    "    # at the surface, b = 1-2Gm/r, which is different to the result\n",
    "    rSurface=output[0]\n",
    "    bSurface=output[1]\n",
    "    fSurface=output[3]\n",
    "    mSurface=(1-fSurface)*rSurface/(2*GS*MSS)\n",
    "    bSurfaceTarget = 1-2*GS*MSS*mSurface/rSurface\n",
    "    \n",
    "    # So, we redefine bCC and Q using\n",
    "    bCorrection=bSurfaceTarget/bSurface\n",
    "    \n",
    "    # if abs(bCorrection) not near 1, then recalculate\n",
    "    while (abs(bCorrection-1)>10**(-3)):\n",
    "        bCC=bCC*bCorrection\n",
    "        Q=Q/np.sqrt(bCorrection)\n",
    "        output=RungeKutta(rCC,bCC,PCC,fCC,h,0)\n",
    "        rSurface=output[0]\n",
    "        bSurface=output[1]\n",
    "        fSurface=output[3]\n",
    "        mSurface=(1-fSurface)*rSurface/(2*GS*MSS)\n",
    "        bSurfaceTarget = 1-2*GS*MSS*mSurface/rSurface\n",
    "        bCorrection=bSurfaceTarget/bSurface   \n",
    "    \n",
    "    #print the results \n",
    "    rSurface=output[0]\n",
    "    fSurface=output[3]\n",
    "    mSurface=(1-fSurface)*rSurface/(2*GS*MSS)\n",
    "    print(PCC, (rSurface/1000), mSurface, \n",
    "          GS*MSS*mSurface/rSurface, Qinf/UBQ, Q/UBQ)    \n",
    "    print(PCC, (eden(PCC)/1000), (rSurface/1000), mSurface, \n",
    "          GS*MSS*mSurface/rSurface, Q/UBQ,\n",
    "          file=open('radmassST.dat', 'a'))"
   ]
  },
  {
   "cell_type": "code",
   "execution_count": null,
   "metadata": {},
   "outputs": [],
   "source": [
    "# plot all PCC\n",
    "\n",
    "radmass=np.loadtxt(\"radmassST.dat\")[:, :]\n",
    "dataEden=radmass[:,1]\n",
    "dataRad=radmass[:,2]\n",
    "dataMass=radmass[:,3]\n",
    "dataCompactness=radmass[:,4]\n",
    "\n",
    "fig, ax = plt.subplots(3, 1, figsize = (6,15))\n",
    "\n",
    "ax[0].plot(dataRad, dataMass)\n",
    "ax[0].set_xlabel(r'$R$ (km)', fontsize=16)\n",
    "ax[0].set_ylabel(r'$M$ ($M_{\\odot}$)', fontsize=16)\n",
    "\n",
    "ax[1].plot(dataEden, dataMass)\n",
    "ax[1].set_xlabel(r'$\\epsilon_c$ ($10^3$ MeV fm$^{-3}$)', fontsize=16)\n",
    "ax[1].set_ylabel(r'$M$ ($M_{\\odot}$)', fontsize=16)\n",
    "\n",
    "ax[2].plot(dataCompactness, dataMass)\n",
    "ax[2].set_xlabel(r'$C=2GM/R$', fontsize=16)\n",
    "ax[2].set_ylabel(r'$M$ ($M_{\\odot}$)', fontsize=16)\n",
    "\n",
    "plt.show()"
   ]
  },
  {
   "cell_type": "code",
   "execution_count": null,
   "metadata": {},
   "outputs": [],
   "source": [
    "# extra\n",
    "\n",
    "radmass=np.loadtxt(\"radmass.dat\")[:, :]\n",
    "dataEdenGR=radmass[:,1]\n",
    "dataRadGR=radmass[:,2]\n",
    "dataMassGR=radmass[:,3]\n",
    "dataCompactnessGR=radmass[:,4]\n",
    "\n",
    "fig, ax = plt.subplots(3, 1, figsize = (6,15))\n",
    "\n",
    "ax[0].plot(dataRad, dataMass, dataRadGR, dataMassGR)\n",
    "ax[0].set_xlabel(r'$R$ (km)', fontsize=16)\n",
    "ax[0].set_ylabel(r'$M$ ($M_{\\odot}$)', fontsize=16)\n",
    "\n",
    "ax[1].plot(dataEden, dataMass, dataEdenGR, dataMassGR)\n",
    "ax[1].set_xlabel(r'$\\epsilon_c$ ($10^3$ MeV fm$^{-3}$)', fontsize=16)\n",
    "ax[1].set_ylabel(r'$M$ ($M_{\\odot}$)', fontsize=16)\n",
    "\n",
    "ax[2].plot(dataCompactness, dataMass, dataCompactnessGR, dataMassGR)\n",
    "ax[2].set_xlabel(r'$C=2GM/R$', fontsize=16)\n",
    "ax[2].set_ylabel(r'$M$ ($M_{\\odot}$)', fontsize=16)\n",
    "\n",
    "plt.show()"
   ]
  },
  {
   "cell_type": "code",
   "execution_count": null,
   "metadata": {},
   "outputs": [],
   "source": []
  }
 ],
 "metadata": {
  "kernelspec": {
   "name": "python3",
   "display_name": "Python 3.8.3 64-bit (virtualenv)"
  },
  "language_info": {
   "codemirror_mode": {
    "name": "ipython",
    "version": 3
   },
   "file_extension": ".py",
   "mimetype": "text/x-python",
   "name": "python",
   "nbconvert_exporter": "python",
   "pygments_lexer": "ipython3",
   "version": "3.8.3"
  },
  "interpreter": {
   "hash": "97ae724bfa85b9b34df7982b8bb8c7216f435b92902d749e4263f71162bea840"
  }
 },
 "nbformat": 4,
 "nbformat_minor": 4
}